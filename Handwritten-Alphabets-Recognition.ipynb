{
 "cells": [
  {
   "cell_type": "markdown",
   "id": "87ebf6cd-ef7c-4c56-b422-6af1d40b2d83",
   "metadata": {},
   "source": [
    "# Handwritten Digit Alphabets with Tensorflow NN"
   ]
  },
  {
   "cell_type": "code",
   "execution_count": 81,
   "id": "5a962bb1-7282-4821-9c1f-7c45f0d27e22",
   "metadata": {},
   "outputs": [],
   "source": [
    "import cv2 as cv\n",
    "import numpy as np\n",
    "import pandas as pd\n",
    "import tensorflow as tf\n",
    "from sklearn.model_selection import train_test_split"
   ]
  },
  {
   "cell_type": "code",
   "execution_count": 55,
   "id": "d7458886-5dd3-4798-bf48-b7257ea9a231",
   "metadata": {},
   "outputs": [],
   "source": [
    "# Define the path to the CSV file taht contain the dataset\n",
    "csv_path = 'dataset/A_Z Handwritten Data.csv'"
   ]
  },
  {
   "cell_type": "code",
   "execution_count": 61,
   "id": "79da8cb8-b8d3-4e24-aea8-3911679c5e52",
   "metadata": {},
   "outputs": [],
   "source": [
    "# Load the dataset into a DataFrame\n",
    "df = pd.read_csv(csv_path)"
   ]
  },
  {
   "cell_type": "code",
   "execution_count": 62,
   "id": "8cdc7f45-c43a-4397-897e-a4c259612bef",
   "metadata": {},
   "outputs": [
    {
     "data": {
      "text/html": [
       "<div>\n",
       "<style scoped>\n",
       "    .dataframe tbody tr th:only-of-type {\n",
       "        vertical-align: middle;\n",
       "    }\n",
       "\n",
       "    .dataframe tbody tr th {\n",
       "        vertical-align: top;\n",
       "    }\n",
       "\n",
       "    .dataframe thead th {\n",
       "        text-align: right;\n",
       "    }\n",
       "</style>\n",
       "<table border=\"1\" class=\"dataframe\">\n",
       "  <thead>\n",
       "    <tr style=\"text-align: right;\">\n",
       "      <th></th>\n",
       "      <th>0</th>\n",
       "      <th>0.1</th>\n",
       "      <th>0.2</th>\n",
       "      <th>0.3</th>\n",
       "      <th>0.4</th>\n",
       "      <th>0.5</th>\n",
       "      <th>0.6</th>\n",
       "      <th>0.7</th>\n",
       "      <th>0.8</th>\n",
       "      <th>0.9</th>\n",
       "      <th>...</th>\n",
       "      <th>0.639</th>\n",
       "      <th>0.640</th>\n",
       "      <th>0.641</th>\n",
       "      <th>0.642</th>\n",
       "      <th>0.643</th>\n",
       "      <th>0.644</th>\n",
       "      <th>0.645</th>\n",
       "      <th>0.646</th>\n",
       "      <th>0.647</th>\n",
       "      <th>0.648</th>\n",
       "    </tr>\n",
       "  </thead>\n",
       "  <tbody>\n",
       "    <tr>\n",
       "      <th>0</th>\n",
       "      <td>0</td>\n",
       "      <td>0</td>\n",
       "      <td>0</td>\n",
       "      <td>0</td>\n",
       "      <td>0</td>\n",
       "      <td>0</td>\n",
       "      <td>0</td>\n",
       "      <td>0</td>\n",
       "      <td>0</td>\n",
       "      <td>0</td>\n",
       "      <td>...</td>\n",
       "      <td>0</td>\n",
       "      <td>0</td>\n",
       "      <td>0</td>\n",
       "      <td>0</td>\n",
       "      <td>0</td>\n",
       "      <td>0</td>\n",
       "      <td>0</td>\n",
       "      <td>0</td>\n",
       "      <td>0</td>\n",
       "      <td>0</td>\n",
       "    </tr>\n",
       "    <tr>\n",
       "      <th>1</th>\n",
       "      <td>0</td>\n",
       "      <td>0</td>\n",
       "      <td>0</td>\n",
       "      <td>0</td>\n",
       "      <td>0</td>\n",
       "      <td>0</td>\n",
       "      <td>0</td>\n",
       "      <td>0</td>\n",
       "      <td>0</td>\n",
       "      <td>0</td>\n",
       "      <td>...</td>\n",
       "      <td>0</td>\n",
       "      <td>0</td>\n",
       "      <td>0</td>\n",
       "      <td>0</td>\n",
       "      <td>0</td>\n",
       "      <td>0</td>\n",
       "      <td>0</td>\n",
       "      <td>0</td>\n",
       "      <td>0</td>\n",
       "      <td>0</td>\n",
       "    </tr>\n",
       "    <tr>\n",
       "      <th>2</th>\n",
       "      <td>0</td>\n",
       "      <td>0</td>\n",
       "      <td>0</td>\n",
       "      <td>0</td>\n",
       "      <td>0</td>\n",
       "      <td>0</td>\n",
       "      <td>0</td>\n",
       "      <td>0</td>\n",
       "      <td>0</td>\n",
       "      <td>0</td>\n",
       "      <td>...</td>\n",
       "      <td>0</td>\n",
       "      <td>0</td>\n",
       "      <td>0</td>\n",
       "      <td>0</td>\n",
       "      <td>0</td>\n",
       "      <td>0</td>\n",
       "      <td>0</td>\n",
       "      <td>0</td>\n",
       "      <td>0</td>\n",
       "      <td>0</td>\n",
       "    </tr>\n",
       "    <tr>\n",
       "      <th>3</th>\n",
       "      <td>0</td>\n",
       "      <td>0</td>\n",
       "      <td>0</td>\n",
       "      <td>0</td>\n",
       "      <td>0</td>\n",
       "      <td>0</td>\n",
       "      <td>0</td>\n",
       "      <td>0</td>\n",
       "      <td>0</td>\n",
       "      <td>0</td>\n",
       "      <td>...</td>\n",
       "      <td>0</td>\n",
       "      <td>0</td>\n",
       "      <td>0</td>\n",
       "      <td>0</td>\n",
       "      <td>0</td>\n",
       "      <td>0</td>\n",
       "      <td>0</td>\n",
       "      <td>0</td>\n",
       "      <td>0</td>\n",
       "      <td>0</td>\n",
       "    </tr>\n",
       "    <tr>\n",
       "      <th>4</th>\n",
       "      <td>0</td>\n",
       "      <td>0</td>\n",
       "      <td>0</td>\n",
       "      <td>0</td>\n",
       "      <td>0</td>\n",
       "      <td>0</td>\n",
       "      <td>0</td>\n",
       "      <td>0</td>\n",
       "      <td>0</td>\n",
       "      <td>0</td>\n",
       "      <td>...</td>\n",
       "      <td>0</td>\n",
       "      <td>0</td>\n",
       "      <td>0</td>\n",
       "      <td>0</td>\n",
       "      <td>0</td>\n",
       "      <td>0</td>\n",
       "      <td>0</td>\n",
       "      <td>0</td>\n",
       "      <td>0</td>\n",
       "      <td>0</td>\n",
       "    </tr>\n",
       "  </tbody>\n",
       "</table>\n",
       "<p>5 rows × 785 columns</p>\n",
       "</div>"
      ],
      "text/plain": [
       "   0  0.1  0.2  0.3  0.4  0.5  0.6  0.7  0.8  0.9  ...  0.639  0.640  0.641  \\\n",
       "0  0    0    0    0    0    0    0    0    0    0  ...      0      0      0   \n",
       "1  0    0    0    0    0    0    0    0    0    0  ...      0      0      0   \n",
       "2  0    0    0    0    0    0    0    0    0    0  ...      0      0      0   \n",
       "3  0    0    0    0    0    0    0    0    0    0  ...      0      0      0   \n",
       "4  0    0    0    0    0    0    0    0    0    0  ...      0      0      0   \n",
       "\n",
       "   0.642  0.643  0.644  0.645  0.646  0.647  0.648  \n",
       "0      0      0      0      0      0      0      0  \n",
       "1      0      0      0      0      0      0      0  \n",
       "2      0      0      0      0      0      0      0  \n",
       "3      0      0      0      0      0      0      0  \n",
       "4      0      0      0      0      0      0      0  \n",
       "\n",
       "[5 rows x 785 columns]"
      ]
     },
     "execution_count": 62,
     "metadata": {},
     "output_type": "execute_result"
    }
   ],
   "source": [
    "# Display the first few rows of the dataset\n",
    "df.head()"
   ]
  },
  {
   "cell_type": "code",
   "execution_count": 63,
   "id": "7d71acc7-3767-4059-b6d2-e9eb79946459",
   "metadata": {},
   "outputs": [],
   "source": [
    "# X contains all the data from the DataFrame except the first column, which holds the labels.\n",
    "# This means X will have the pixel values of the images.\n",
    "# y contains only the first column of the DataFrame, which holds the labels for each image.\n",
    "# df.iloc[rows, columns] is used to select data based on index positions.\n",
    "X = df.iloc[:, 1:].values  \n",
    "y = df.iloc[:, 0].values"
   ]
  },
  {
   "cell_type": "code",
   "execution_count": 64,
   "id": "e908dfbc-2fa2-4395-9a24-055ce294a478",
   "metadata": {},
   "outputs": [],
   "source": [
    "# Reshape X to have the shape (num_images, 28, 28), where -1 means automatically infer the number of images.\n",
    "# Each image is reshaped from a flat vector of 784 pixels to a 28x28 pixel grid.\n",
    "X_images = X.reshape(-1, 28, 28)  "
   ]
  },
  {
   "cell_type": "code",
   "execution_count": 66,
   "id": "5eb098c0-d4fe-4002-80d2-6d1fdc1e734a",
   "metadata": {},
   "outputs": [
    {
     "data": {
      "text/plain": [
       "(372450, 28, 28)"
      ]
     },
     "execution_count": 66,
     "metadata": {},
     "output_type": "execute_result"
    }
   ],
   "source": [
    "X_images.shape"
   ]
  },
  {
   "cell_type": "markdown",
   "id": "3c44dd0f-c342-4fac-81a1-6e1ccd4df3a9",
   "metadata": {},
   "source": [
    "# Image Visualization"
   ]
  },
  {
   "cell_type": "code",
   "execution_count": 76,
   "id": "3147bd87-4133-428d-a11b-bab5ce20a9e0",
   "metadata": {},
   "outputs": [
    {
     "data": {
      "image/png": "[encoded data removed]",
      "text/plain": [
       "<Figure size 640x480 with 1 Axes>"
      ]
     },
     "metadata": {},
     "output_type": "display_data"
    }
   ],
   "source": [
    "import matplotlib.pyplot as plt\n",
    "image_index = 20000\n",
    "# Invert the colors\n",
    "X_images_inverted = 255 - X_images\n",
    "# Visualize a sample \n",
    "plt.imshow(X_images_inverted[image_index], cmap='gray')\n",
    "plt.title(f'Label: {y[image_index]}')\n",
    "plt.show()"
   ]
  },
  {
   "cell_type": "markdown",
   "id": "faa7bc5c-2d30-4fa0-b650-ec7720cd155a",
   "metadata": {},
   "source": [
    "# Pre-Processing"
   ]
  },
  {
   "cell_type": "code",
   "execution_count": 78,
   "id": "1d7c0e49-1084-4cec-882d-d92d08faff6c",
   "metadata": {},
   "outputs": [],
   "source": [
    "# Normalize the images, adjusting pixel values to a range [0, 1]\n",
    "X_images_normalized = tf.keras.utils.normalize(X_images_inverted, axis=1)"
   ]
  },
  {
   "cell_type": "code",
   "execution_count": 82,
   "id": "3b0ae720-ca41-4cfb-820c-2f961da7ef17",
   "metadata": {},
   "outputs": [],
   "source": [
    "# Split the data into training and testing sets\n",
    "X_train, X_test, y_train, y_test = train_test_split(X_images_normalized, y, test_size=0.2, random_state=42)"
   ]
  },
  {
   "cell_type": "code",
   "execution_count": 83,
   "id": "4648ba1f-f91b-4ef2-8cfa-fd73bab5b4eb",
   "metadata": {},
   "outputs": [
    {
     "name": "stdout",
     "output_type": "stream",
     "text": [
      "X_train shape: (297960, 28, 28)\n",
      "X_test shape: (74490, 28, 28)\n",
      "y_train shape: (297960,)\n",
      "y_test shape: (74490,)\n"
     ]
    }
   ],
   "source": [
    "# Print shapes to verify the split\n",
    "print(f\"X_train shape: {X_train.shape}\")\n",
    "print(f\"X_test shape: {X_test.shape}\")\n",
    "print(f\"y_train shape: {y_train.shape}\")\n",
    "print(f\"y_test shape: {y_test.shape}\")"
   ]
  },
  {
   "cell_type": "markdown",
   "id": "27705728-ffd4-4d62-880d-e45db6b1ed40",
   "metadata": {},
   "source": [
    "# Model"
   ]
  },
  {
   "cell_type": "code",
   "execution_count": 87,
   "id": "db22a8d0-83ba-488a-a6a9-52da9104d045",
   "metadata": {},
   "outputs": [],
   "source": [
    "from tensorflow.keras.models import Sequential\n",
    "from tensorflow.keras.layers import Dense, Flatten, Input\n",
    "# input layer, three dense layer and one output layer\n",
    "model = Sequential([\n",
    "    Input(shape=(28, 28)),            # Input layer specifying the shape of the input\n",
    "    Flatten(),                        # Flatten the 28x28 input to a 784-dimensional vector\n",
    "    Dense(1024, activation='relu'),   # First hidden layer with 1024 units and ReLU activation\n",
    "    Dense(512, activation='relu'),    # Second hidden layer with 512 units and ReLU activation\n",
    "    Dense(128, activation='relu'),    # Third hidden layer with 128 units and ReLU activation\n",
    "    # Output layer with 26 neurons and softmax activation for multi-class classification\n",
    "    Dense(26, activation='softmax')    \n",
    "])"
   ]
  },
  {
   "cell_type": "code",
   "execution_count": 88,
   "id": "e01bf92d-c212-4dc4-9b40-4722f33b65b2",
   "metadata": {},
   "outputs": [],
   "source": [
    "# Compile the model\n",
    "model.compile(optimizer='adam',\n",
    "              loss='sparse_categorical_crossentropy',\n",
    "              metrics=['accuracy'])"
   ]
  },
  {
   "cell_type": "code",
   "execution_count": 89,
   "id": "6569c871-fb14-4bd3-a0a1-e91c5da2d396",
   "metadata": {},
   "outputs": [
    {
     "name": "stdout",
     "output_type": "stream",
     "text": [
      "Epoch 1/10\n",
      "\u001b[1m8381/8381\u001b[0m \u001b[32m━━━━━━━━━━━━━━━━━━━━\u001b[0m\u001b[37m\u001b[0m \u001b[1m106s\u001b[0m 13ms/step - accuracy: 0.7848 - loss: 0.7281 - val_accuracy: 0.9252 - val_loss: 0.2522\n",
      "Epoch 2/10\n",
      "\u001b[1m8381/8381\u001b[0m \u001b[32m━━━━━━━━━━━━━━━━━━━━\u001b[0m\u001b[37m\u001b[0m \u001b[1m109s\u001b[0m 13ms/step - accuracy: 0.9369 - loss: 0.2115 - val_accuracy: 0.9530 - val_loss: 0.1607\n",
      "Epoch 3/10\n",
      "\u001b[1m8381/8381\u001b[0m \u001b[32m━━━━━━━━━━━━━━━━━━━━\u001b[0m\u001b[37m\u001b[0m \u001b[1m112s\u001b[0m 13ms/step - accuracy: 0.9530 - loss: 0.1586 - val_accuracy: 0.9453 - val_loss: 0.1792\n",
      "Epoch 4/10\n",
      "\u001b[1m8381/8381\u001b[0m \u001b[32m━━━━━━━━━━━━━━━━━━━━\u001b[0m\u001b[37m\u001b[0m \u001b[1m117s\u001b[0m 14ms/step - accuracy: 0.9592 - loss: 0.1360 - val_accuracy: 0.9595 - val_loss: 0.1392\n",
      "Epoch 5/10\n",
      "\u001b[1m8381/8381\u001b[0m \u001b[32m━━━━━━━━━━━━━━━━━━━━\u001b[0m\u001b[37m\u001b[0m \u001b[1m116s\u001b[0m 14ms/step - accuracy: 0.9635 - loss: 0.1195 - val_accuracy: 0.9608 - val_loss: 0.1315\n",
      "Epoch 6/10\n",
      "\u001b[1m8381/8381\u001b[0m \u001b[32m━━━━━━━━━━━━━━━━━━━━\u001b[0m\u001b[37m\u001b[0m \u001b[1m117s\u001b[0m 14ms/step - accuracy: 0.9679 - loss: 0.1056 - val_accuracy: 0.9677 - val_loss: 0.1104\n",
      "Epoch 7/10\n",
      "\u001b[1m8381/8381\u001b[0m \u001b[32m━━━━━━━━━━━━━━━━━━━━\u001b[0m\u001b[37m\u001b[0m \u001b[1m105s\u001b[0m 13ms/step - accuracy: 0.9700 - loss: 0.0971 - val_accuracy: 0.9682 - val_loss: 0.1081\n",
      "Epoch 8/10\n",
      "\u001b[1m8381/8381\u001b[0m \u001b[32m━━━━━━━━━━━━━━━━━━━━\u001b[0m\u001b[37m\u001b[0m \u001b[1m112s\u001b[0m 13ms/step - accuracy: 0.9716 - loss: 0.0922 - val_accuracy: 0.9672 - val_loss: 0.1094\n",
      "Epoch 9/10\n",
      "\u001b[1m8381/8381\u001b[0m \u001b[32m━━━━━━━━━━━━━━━━━━━━\u001b[0m\u001b[37m\u001b[0m \u001b[1m104s\u001b[0m 12ms/step - accuracy: 0.9729 - loss: 0.0879 - val_accuracy: 0.9692 - val_loss: 0.1033\n",
      "Epoch 10/10\n",
      "\u001b[1m8381/8381\u001b[0m \u001b[32m━━━━━━━━━━━━━━━━━━━━\u001b[0m\u001b[37m\u001b[0m \u001b[1m104s\u001b[0m 12ms/step - accuracy: 0.9739 - loss: 0.0854 - val_accuracy: 0.9680 - val_loss: 0.1085\n"
     ]
    }
   ],
   "source": [
    "# train our model on the training set with 10 epochs it means just how many times our model gonna see the data\n",
    "# Further split X_train into training and validation sets\n",
    "history = model.fit(\n",
    "    X_train,             # Training features\n",
    "    y_train,             # Training labels\n",
    "    epochs=10,           # Number of epochs to train the model\n",
    "    batch_size=32,       # Number of samples per gradient update\n",
    "    validation_split=0.10 # Reserve 10% of the training data for validation\n",
    ")"
   ]
  },
  {
   "cell_type": "markdown",
   "id": "12cc2c98-397f-42e6-a29d-bf1e8af4e231",
   "metadata": {},
   "source": [
    "# Testing the model"
   ]
  },
  {
   "cell_type": "code",
   "execution_count": 90,
   "id": "1e96588a-839f-4f60-8b51-96cc83c2a4f6",
   "metadata": {},
   "outputs": [
    {
     "name": "stdout",
     "output_type": "stream",
     "text": [
      "\u001b[1m9312/9312\u001b[0m \u001b[32m━━━━━━━━━━━━━━━━━━━━\u001b[0m\u001b[37m\u001b[0m \u001b[1m17s\u001b[0m 2ms/step - accuracy: 0.9775 - loss: 0.0719\n",
      "Accuracy: 0.9763223528862    Loss: 0.07635299116373062\n"
     ]
    }
   ],
   "source": [
    "# seing how our model doing on the training set\n",
    "loss_t, accuracy_t = model.evaluate(X_train, y_train)\n",
    "# printing the accuracy and the loss of the training set\n",
    "print(\"Accuracy: \" + str(accuracy_t) + \"    Loss: \" + str(loss_t))"
   ]
  },
  {
   "cell_type": "code",
   "execution_count": 91,
   "id": "08b1a91a-383a-4985-a1da-6f870db3e4a3",
   "metadata": {},
   "outputs": [
    {
     "name": "stdout",
     "output_type": "stream",
     "text": [
      "\u001b[1m2328/2328\u001b[0m \u001b[32m━━━━━━━━━━━━━━━━━━━━\u001b[0m\u001b[37m\u001b[0m \u001b[1m4s\u001b[0m 2ms/step - accuracy: 0.9690 - loss: 0.1081\n",
      "Accuracy: 0.9696469306945801    Loss: 0.10718393325805664\n"
     ]
    }
   ],
   "source": [
    "# seing how our model doing on the test set\n",
    "loss, accuracy = model.evaluate(X_test, y_test)\n",
    "# printing the accuracy and the loss of the test set\n",
    "print(\"Accuracy: \" + str(accuracy) + \"    Loss: \" + str(loss))"
   ]
  },
  {
   "cell_type": "code",
   "execution_count": 92,
   "id": "f252f4d2-d9a9-431a-91ee-88782d405200",
   "metadata": {},
   "outputs": [],
   "source": [
    "# saving the model\n",
    "model.save(\"handwritten_alphabets.keras\")"
   ]
  }
 ],
 "metadata": {
  "kernelspec": {
   "display_name": "Python 3 (ipykernel)",
   "language": "python",
   "name": "python3"
  },
  "language_info": {
   "codemirror_mode": {
    "name": "ipython",
    "version": 3
   },
   "file_extension": ".py",
   "mimetype": "text/x-python",
   "name": "python",
   "nbconvert_exporter": "python",
   "pygments_lexer": "ipython3",
   "version": "3.12.4"
  }
 },
 "nbformat": 4,
 "nbformat_minor": 5
}
