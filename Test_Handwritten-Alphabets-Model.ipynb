{
 "cells": [
  {
   "cell_type": "markdown",
   "id": "d1c2732e-37fc-4e8f-bc66-6e8753a0e9e9",
   "metadata": {},
   "source": [
    "# Test the model"
   ]
  },
  {
   "cell_type": "code",
   "execution_count": 8,
   "id": "aee6e633-2ef8-4056-92c0-3053ba4ef8bd",
   "metadata": {},
   "outputs": [],
   "source": [
    "import cv2 as cv\n",
    "import numpy as np\n",
    "import matplotlib.pyplot as plt\n",
    "import tensorflow as tf\n",
    "import os"
   ]
  },
  {
   "cell_type": "code",
   "execution_count": 9,
   "id": "0b375bc0-9343-49bb-a538-8e76a5ccdb8e",
   "metadata": {},
   "outputs": [],
   "source": [
    "# Load the saved model\n",
    "model = tf.keras.models.load_model(\"handwritten_alphabets.keras\")"
   ]
  },
  {
   "cell_type": "code",
   "execution_count": 17,
   "id": "6098a5d9-efe3-4004-89a2-e19aec74a130",
   "metadata": {},
   "outputs": [],
   "source": [
    "# Create a dictionary to map class indices to characters\n",
    "index_to_char = {i: chr(i + ord('A')) for i in range(26)}"
   ]
  },
  {
   "cell_type": "code",
   "execution_count": 40,
   "id": "93d960d2-4a67-43b8-b2ef-3bf88721486e",
   "metadata": {},
   "outputs": [],
   "source": [
    "# Define the path to the folder containing images\n",
    "folder_path = 'test_model'\n",
    "filename = 'a.png'"
   ]
  },
  {
   "cell_type": "code",
   "execution_count": 43,
   "id": "24ee1e4d-ca0b-4ad5-9d5d-21ed131185c3",
   "metadata": {},
   "outputs": [
    {
     "name": "stdout",
     "output_type": "stream",
     "text": [
      "\u001b[1m1/1\u001b[0m \u001b[32m━━━━━━━━━━━━━━━━━━━━\u001b[0m\u001b[37m\u001b[0m \u001b[1m0s\u001b[0m 23ms/step\n"
     ]
    },
    {
     "data": {
      "image/png": "[encoded data removed]",
      "text/plain": [
       "<Figure size 640x480 with 1 Axes>"
      ]
     },
     "metadata": {},
     "output_type": "display_data"
    }
   ],
   "source": [
    "# Read the image in grayscale\n",
    "img = cv.imread(os.path.join(folder_path, filename), cv.IMREAD_GRAYSCALE)\n",
    "\n",
    "# Check if the image is loaded correctly\n",
    "if img is None:\n",
    "    raise ValueError(f\"Error loading image: {filename}\")\n",
    "\n",
    "# Resize the image to 28x28 pixels if needed\n",
    "img = cv.resize(img, (28, 28))\n",
    "\n",
    "# Normalize the image\n",
    "img = tf.keras.utils.normalize(img, axis=1)  # Normalize pixel values to the range [0, 1]\n",
    "\n",
    "# Expand dimensions to match model input shape (1, 28, 28, 1)\n",
    "img = np.expand_dims(img, axis=-1)  \n",
    "img = np.expand_dims(img, axis=0)   \n",
    "\n",
    "# Make prediction\n",
    "prediction = model.predict(img)\n",
    "\n",
    "# Get the predicted class index\n",
    "predicted_index = np.argmax(prediction)\n",
    "\n",
    "# Map the index to the corresponding character\n",
    "predicted_char = index_to_char[predicted_index]\n",
    "\n",
    "# Display the image\n",
    "plt.imshow(np.squeeze(img), cmap=plt.cm.binary) \n",
    "plt.title(f'Predicted Character: {predicted_char}')\n",
    "plt.axis('off')  # Hide the axis\n",
    "plt.show()"
   ]
  }
 ],
 "metadata": {
  "kernelspec": {
   "display_name": "Python 3 (ipykernel)",
   "language": "python",
   "name": "python3"
  },
  "language_info": {
   "codemirror_mode": {
    "name": "ipython",
    "version": 3
   },
   "file_extension": ".py",
   "mimetype": "text/x-python",
   "name": "python",
   "nbconvert_exporter": "python",
   "pygments_lexer": "ipython3",
   "version": "3.12.4"
  }
 },
 "nbformat": 4,
 "nbformat_minor": 5
}
